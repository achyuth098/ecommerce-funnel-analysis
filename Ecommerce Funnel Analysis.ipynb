{
  "cells": [
    {
      "cell_type": "markdown",
      "source": [
        "E-Commerce User Behavior Analysis (Cart Abandonment & Funnel Optimization)"
      ],
      "metadata": {
        "id": "ee5lzLNyjk-c"
      }
    },
    {
      "cell_type": "code",
      "source": [
        "from google.colab import drive\n",
        "drive.mount('/content/drive')\n"
      ],
      "metadata": {
        "id": "BlTy_nPmPBPi",
        "outputId": "4fa71057-505a-4bb2-eeb7-310f930ad634",
        "colab": {
          "base_uri": "https://localhost:8080/"
        }
      },
      "execution_count": 2,
      "outputs": [
        {
          "output_type": "stream",
          "name": "stdout",
          "text": [
            "Mounted at /content/drive\n"
          ]
        }
      ]
    },
    {
      "cell_type": "code",
      "source": [
        "import pandas as pd\n",
        "\n",
        "# Define file path\n",
        "file_path = '/content/drive/My Drive/2019-Oct.csv'"
      ],
      "metadata": {
        "id": "b5tlJ6AgPPey"
      },
      "execution_count": 3,
      "outputs": []
    },
    {
      "cell_type": "code",
      "source": [
        "# Read and process the file in chunks\n",
        "chunk_size = 100_000  # Adjust based on your RAM and needs\n",
        "chunks = []\n",
        "\n",
        "for chunk in pd.read_csv(file_path, chunksize=chunk_size):\n",
        "    # Example: Filter sessions with checkout events\n",
        "    filtered = chunk[chunk['event_type'] == 'checkout']\n",
        "    chunks.append(filtered)\n",
        "\n",
        "# Combine all filtered chunks into a DataFrame\n",
        "filtered_df = pd.concat(chunks, ignore_index=True)\n",
        "\n",
        "# Check the resulting DataFrame\n",
        "print(filtered_df.head())"
      ],
      "metadata": {
        "id": "p6EnUZEkPeDi",
        "outputId": "f39ce856-5a58-4942-ee75-65ff5013b212",
        "colab": {
          "base_uri": "https://localhost:8080/"
        }
      },
      "execution_count": 5,
      "outputs": [
        {
          "output_type": "stream",
          "name": "stdout",
          "text": [
            "Empty DataFrame\n",
            "Columns: [event_time, event_type, product_id, category_id, category_code, brand, price, user_id, user_session]\n",
            "Index: []\n"
          ]
        }
      ]
    },
    {
      "cell_type": "code",
      "source": [
        "sample_df = pd.read_csv(file_path, nrows=100_000)\n",
        "sample_df.head()\n"
      ],
      "metadata": {
        "id": "PS8inm3wRP8Z",
        "outputId": "d4242369-466f-4507-a598-9a979234772c",
        "colab": {
          "base_uri": "https://localhost:8080/",
          "height": 379
        }
      },
      "execution_count": 6,
      "outputs": [
        {
          "output_type": "execute_result",
          "data": {
            "text/plain": [
              "                event_time event_type  product_id          category_id  \\\n",
              "0  2019-10-01 00:00:00 UTC       view    44600062  2103807459595387724   \n",
              "1  2019-10-01 00:00:00 UTC       view     3900821  2053013552326770905   \n",
              "2  2019-10-01 00:00:01 UTC       view    17200506  2053013559792632471   \n",
              "3  2019-10-01 00:00:01 UTC       view     1307067  2053013558920217191   \n",
              "4  2019-10-01 00:00:04 UTC       view     1004237  2053013555631882655   \n",
              "\n",
              "                         category_code     brand    price    user_id  \\\n",
              "0                                  NaN  shiseido    35.79  541312140   \n",
              "1  appliances.environment.water_heater      aqua    33.20  554748717   \n",
              "2           furniture.living_room.sofa       NaN   543.10  519107250   \n",
              "3                   computers.notebook    lenovo   251.74  550050854   \n",
              "4               electronics.smartphone     apple  1081.98  535871217   \n",
              "\n",
              "                           user_session  \n",
              "0  72d76fde-8bb3-4e00-8c23-a032dfed738c  \n",
              "1  9333dfbd-b87a-4708-9857-6336556b0fcc  \n",
              "2  566511c2-e2e3-422b-b695-cf8e6e792ca8  \n",
              "3  7c90fc70-0e80-4590-96f3-13c02c18c713  \n",
              "4  c6bd7419-2748-4c56-95b4-8cec9ff8b80d  "
            ],
            "text/html": [
              "\n",
              "  <div id=\"df-574ec1d8-326a-46ff-9f04-ed509f3fa14e\" class=\"colab-df-container\">\n",
              "    <div>\n",
              "<style scoped>\n",
              "    .dataframe tbody tr th:only-of-type {\n",
              "        vertical-align: middle;\n",
              "    }\n",
              "\n",
              "    .dataframe tbody tr th {\n",
              "        vertical-align: top;\n",
              "    }\n",
              "\n",
              "    .dataframe thead th {\n",
              "        text-align: right;\n",
              "    }\n",
              "</style>\n",
              "<table border=\"1\" class=\"dataframe\">\n",
              "  <thead>\n",
              "    <tr style=\"text-align: right;\">\n",
              "      <th></th>\n",
              "      <th>event_time</th>\n",
              "      <th>event_type</th>\n",
              "      <th>product_id</th>\n",
              "      <th>category_id</th>\n",
              "      <th>category_code</th>\n",
              "      <th>brand</th>\n",
              "      <th>price</th>\n",
              "      <th>user_id</th>\n",
              "      <th>user_session</th>\n",
              "    </tr>\n",
              "  </thead>\n",
              "  <tbody>\n",
              "    <tr>\n",
              "      <th>0</th>\n",
              "      <td>2019-10-01 00:00:00 UTC</td>\n",
              "      <td>view</td>\n",
              "      <td>44600062</td>\n",
              "      <td>2103807459595387724</td>\n",
              "      <td>NaN</td>\n",
              "      <td>shiseido</td>\n",
              "      <td>35.79</td>\n",
              "      <td>541312140</td>\n",
              "      <td>72d76fde-8bb3-4e00-8c23-a032dfed738c</td>\n",
              "    </tr>\n",
              "    <tr>\n",
              "      <th>1</th>\n",
              "      <td>2019-10-01 00:00:00 UTC</td>\n",
              "      <td>view</td>\n",
              "      <td>3900821</td>\n",
              "      <td>2053013552326770905</td>\n",
              "      <td>appliances.environment.water_heater</td>\n",
              "      <td>aqua</td>\n",
              "      <td>33.20</td>\n",
              "      <td>554748717</td>\n",
              "      <td>9333dfbd-b87a-4708-9857-6336556b0fcc</td>\n",
              "    </tr>\n",
              "    <tr>\n",
              "      <th>2</th>\n",
              "      <td>2019-10-01 00:00:01 UTC</td>\n",
              "      <td>view</td>\n",
              "      <td>17200506</td>\n",
              "      <td>2053013559792632471</td>\n",
              "      <td>furniture.living_room.sofa</td>\n",
              "      <td>NaN</td>\n",
              "      <td>543.10</td>\n",
              "      <td>519107250</td>\n",
              "      <td>566511c2-e2e3-422b-b695-cf8e6e792ca8</td>\n",
              "    </tr>\n",
              "    <tr>\n",
              "      <th>3</th>\n",
              "      <td>2019-10-01 00:00:01 UTC</td>\n",
              "      <td>view</td>\n",
              "      <td>1307067</td>\n",
              "      <td>2053013558920217191</td>\n",
              "      <td>computers.notebook</td>\n",
              "      <td>lenovo</td>\n",
              "      <td>251.74</td>\n",
              "      <td>550050854</td>\n",
              "      <td>7c90fc70-0e80-4590-96f3-13c02c18c713</td>\n",
              "    </tr>\n",
              "    <tr>\n",
              "      <th>4</th>\n",
              "      <td>2019-10-01 00:00:04 UTC</td>\n",
              "      <td>view</td>\n",
              "      <td>1004237</td>\n",
              "      <td>2053013555631882655</td>\n",
              "      <td>electronics.smartphone</td>\n",
              "      <td>apple</td>\n",
              "      <td>1081.98</td>\n",
              "      <td>535871217</td>\n",
              "      <td>c6bd7419-2748-4c56-95b4-8cec9ff8b80d</td>\n",
              "    </tr>\n",
              "  </tbody>\n",
              "</table>\n",
              "</div>\n",
              "    <div class=\"colab-df-buttons\">\n",
              "\n",
              "  <div class=\"colab-df-container\">\n",
              "    <button class=\"colab-df-convert\" onclick=\"convertToInteractive('df-574ec1d8-326a-46ff-9f04-ed509f3fa14e')\"\n",
              "            title=\"Convert this dataframe to an interactive table.\"\n",
              "            style=\"display:none;\">\n",
              "\n",
              "  <svg xmlns=\"http://www.w3.org/2000/svg\" height=\"24px\" viewBox=\"0 -960 960 960\">\n",
              "    <path d=\"M120-120v-720h720v720H120Zm60-500h600v-160H180v160Zm220 220h160v-160H400v160Zm0 220h160v-160H400v160ZM180-400h160v-160H180v160Zm440 0h160v-160H620v160ZM180-180h160v-160H180v160Zm440 0h160v-160H620v160Z\"/>\n",
              "  </svg>\n",
              "    </button>\n",
              "\n",
              "  <style>\n",
              "    .colab-df-container {\n",
              "      display:flex;\n",
              "      gap: 12px;\n",
              "    }\n",
              "\n",
              "    .colab-df-convert {\n",
              "      background-color: #E8F0FE;\n",
              "      border: none;\n",
              "      border-radius: 50%;\n",
              "      cursor: pointer;\n",
              "      display: none;\n",
              "      fill: #1967D2;\n",
              "      height: 32px;\n",
              "      padding: 0 0 0 0;\n",
              "      width: 32px;\n",
              "    }\n",
              "\n",
              "    .colab-df-convert:hover {\n",
              "      background-color: #E2EBFA;\n",
              "      box-shadow: 0px 1px 2px rgba(60, 64, 67, 0.3), 0px 1px 3px 1px rgba(60, 64, 67, 0.15);\n",
              "      fill: #174EA6;\n",
              "    }\n",
              "\n",
              "    .colab-df-buttons div {\n",
              "      margin-bottom: 4px;\n",
              "    }\n",
              "\n",
              "    [theme=dark] .colab-df-convert {\n",
              "      background-color: #3B4455;\n",
              "      fill: #D2E3FC;\n",
              "    }\n",
              "\n",
              "    [theme=dark] .colab-df-convert:hover {\n",
              "      background-color: #434B5C;\n",
              "      box-shadow: 0px 1px 3px 1px rgba(0, 0, 0, 0.15);\n",
              "      filter: drop-shadow(0px 1px 2px rgba(0, 0, 0, 0.3));\n",
              "      fill: #FFFFFF;\n",
              "    }\n",
              "  </style>\n",
              "\n",
              "    <script>\n",
              "      const buttonEl =\n",
              "        document.querySelector('#df-574ec1d8-326a-46ff-9f04-ed509f3fa14e button.colab-df-convert');\n",
              "      buttonEl.style.display =\n",
              "        google.colab.kernel.accessAllowed ? 'block' : 'none';\n",
              "\n",
              "      async function convertToInteractive(key) {\n",
              "        const element = document.querySelector('#df-574ec1d8-326a-46ff-9f04-ed509f3fa14e');\n",
              "        const dataTable =\n",
              "          await google.colab.kernel.invokeFunction('convertToInteractive',\n",
              "                                                    [key], {});\n",
              "        if (!dataTable) return;\n",
              "\n",
              "        const docLinkHtml = 'Like what you see? Visit the ' +\n",
              "          '<a target=\"_blank\" href=https://colab.research.google.com/notebooks/data_table.ipynb>data table notebook</a>'\n",
              "          + ' to learn more about interactive tables.';\n",
              "        element.innerHTML = '';\n",
              "        dataTable['output_type'] = 'display_data';\n",
              "        await google.colab.output.renderOutput(dataTable, element);\n",
              "        const docLink = document.createElement('div');\n",
              "        docLink.innerHTML = docLinkHtml;\n",
              "        element.appendChild(docLink);\n",
              "      }\n",
              "    </script>\n",
              "  </div>\n",
              "\n",
              "\n",
              "    <div id=\"df-ac422074-f9fb-45f6-82dc-eb010eee499e\">\n",
              "      <button class=\"colab-df-quickchart\" onclick=\"quickchart('df-ac422074-f9fb-45f6-82dc-eb010eee499e')\"\n",
              "                title=\"Suggest charts\"\n",
              "                style=\"display:none;\">\n",
              "\n",
              "<svg xmlns=\"http://www.w3.org/2000/svg\" height=\"24px\"viewBox=\"0 0 24 24\"\n",
              "     width=\"24px\">\n",
              "    <g>\n",
              "        <path d=\"M19 3H5c-1.1 0-2 .9-2 2v14c0 1.1.9 2 2 2h14c1.1 0 2-.9 2-2V5c0-1.1-.9-2-2-2zM9 17H7v-7h2v7zm4 0h-2V7h2v10zm4 0h-2v-4h2v4z\"/>\n",
              "    </g>\n",
              "</svg>\n",
              "      </button>\n",
              "\n",
              "<style>\n",
              "  .colab-df-quickchart {\n",
              "      --bg-color: #E8F0FE;\n",
              "      --fill-color: #1967D2;\n",
              "      --hover-bg-color: #E2EBFA;\n",
              "      --hover-fill-color: #174EA6;\n",
              "      --disabled-fill-color: #AAA;\n",
              "      --disabled-bg-color: #DDD;\n",
              "  }\n",
              "\n",
              "  [theme=dark] .colab-df-quickchart {\n",
              "      --bg-color: #3B4455;\n",
              "      --fill-color: #D2E3FC;\n",
              "      --hover-bg-color: #434B5C;\n",
              "      --hover-fill-color: #FFFFFF;\n",
              "      --disabled-bg-color: #3B4455;\n",
              "      --disabled-fill-color: #666;\n",
              "  }\n",
              "\n",
              "  .colab-df-quickchart {\n",
              "    background-color: var(--bg-color);\n",
              "    border: none;\n",
              "    border-radius: 50%;\n",
              "    cursor: pointer;\n",
              "    display: none;\n",
              "    fill: var(--fill-color);\n",
              "    height: 32px;\n",
              "    padding: 0;\n",
              "    width: 32px;\n",
              "  }\n",
              "\n",
              "  .colab-df-quickchart:hover {\n",
              "    background-color: var(--hover-bg-color);\n",
              "    box-shadow: 0 1px 2px rgba(60, 64, 67, 0.3), 0 1px 3px 1px rgba(60, 64, 67, 0.15);\n",
              "    fill: var(--button-hover-fill-color);\n",
              "  }\n",
              "\n",
              "  .colab-df-quickchart-complete:disabled,\n",
              "  .colab-df-quickchart-complete:disabled:hover {\n",
              "    background-color: var(--disabled-bg-color);\n",
              "    fill: var(--disabled-fill-color);\n",
              "    box-shadow: none;\n",
              "  }\n",
              "\n",
              "  .colab-df-spinner {\n",
              "    border: 2px solid var(--fill-color);\n",
              "    border-color: transparent;\n",
              "    border-bottom-color: var(--fill-color);\n",
              "    animation:\n",
              "      spin 1s steps(1) infinite;\n",
              "  }\n",
              "\n",
              "  @keyframes spin {\n",
              "    0% {\n",
              "      border-color: transparent;\n",
              "      border-bottom-color: var(--fill-color);\n",
              "      border-left-color: var(--fill-color);\n",
              "    }\n",
              "    20% {\n",
              "      border-color: transparent;\n",
              "      border-left-color: var(--fill-color);\n",
              "      border-top-color: var(--fill-color);\n",
              "    }\n",
              "    30% {\n",
              "      border-color: transparent;\n",
              "      border-left-color: var(--fill-color);\n",
              "      border-top-color: var(--fill-color);\n",
              "      border-right-color: var(--fill-color);\n",
              "    }\n",
              "    40% {\n",
              "      border-color: transparent;\n",
              "      border-right-color: var(--fill-color);\n",
              "      border-top-color: var(--fill-color);\n",
              "    }\n",
              "    60% {\n",
              "      border-color: transparent;\n",
              "      border-right-color: var(--fill-color);\n",
              "    }\n",
              "    80% {\n",
              "      border-color: transparent;\n",
              "      border-right-color: var(--fill-color);\n",
              "      border-bottom-color: var(--fill-color);\n",
              "    }\n",
              "    90% {\n",
              "      border-color: transparent;\n",
              "      border-bottom-color: var(--fill-color);\n",
              "    }\n",
              "  }\n",
              "</style>\n",
              "\n",
              "      <script>\n",
              "        async function quickchart(key) {\n",
              "          const quickchartButtonEl =\n",
              "            document.querySelector('#' + key + ' button');\n",
              "          quickchartButtonEl.disabled = true;  // To prevent multiple clicks.\n",
              "          quickchartButtonEl.classList.add('colab-df-spinner');\n",
              "          try {\n",
              "            const charts = await google.colab.kernel.invokeFunction(\n",
              "                'suggestCharts', [key], {});\n",
              "          } catch (error) {\n",
              "            console.error('Error during call to suggestCharts:', error);\n",
              "          }\n",
              "          quickchartButtonEl.classList.remove('colab-df-spinner');\n",
              "          quickchartButtonEl.classList.add('colab-df-quickchart-complete');\n",
              "        }\n",
              "        (() => {\n",
              "          let quickchartButtonEl =\n",
              "            document.querySelector('#df-ac422074-f9fb-45f6-82dc-eb010eee499e button');\n",
              "          quickchartButtonEl.style.display =\n",
              "            google.colab.kernel.accessAllowed ? 'block' : 'none';\n",
              "        })();\n",
              "      </script>\n",
              "    </div>\n",
              "\n",
              "    </div>\n",
              "  </div>\n"
            ],
            "application/vnd.google.colaboratory.intrinsic+json": {
              "type": "dataframe",
              "variable_name": "sample_df",
              "summary": "{\n  \"name\": \"sample_df\",\n  \"rows\": 100000,\n  \"fields\": [\n    {\n      \"column\": \"event_time\",\n      \"properties\": {\n        \"dtype\": \"object\",\n        \"num_unique_values\": 8753,\n        \"samples\": [\n          \"2019-10-01 02:55:05 UTC\",\n          \"2019-10-01 03:26:45 UTC\",\n          \"2019-10-01 04:19:25 UTC\"\n        ],\n        \"semantic_type\": \"\",\n        \"description\": \"\"\n      }\n    },\n    {\n      \"column\": \"event_type\",\n      \"properties\": {\n        \"dtype\": \"category\",\n        \"num_unique_values\": 3,\n        \"samples\": [\n          \"view\",\n          \"purchase\",\n          \"cart\"\n        ],\n        \"semantic_type\": \"\",\n        \"description\": \"\"\n      }\n    },\n    {\n      \"column\": \"product_id\",\n      \"properties\": {\n        \"dtype\": \"number\",\n        \"std\": 11135458,\n        \"min\": 1001588,\n        \"max\": 53100015,\n        \"num_unique_values\": 20621,\n        \"samples\": [\n          12700738,\n          13600312,\n          12300261\n        ],\n        \"semantic_type\": \"\",\n        \"description\": \"\"\n      }\n    },\n    {\n      \"column\": \"category_id\",\n      \"properties\": {\n        \"dtype\": \"number\",\n        \"std\": 14909815920517084,\n        \"min\": 2053013552226107603,\n        \"max\": 2175419595093967522,\n        \"num_unique_values\": 509,\n        \"samples\": [\n          2053013563768832881,\n          2053013559675191951,\n          2076715364237967901\n        ],\n        \"semantic_type\": \"\",\n        \"description\": \"\"\n      }\n    },\n    {\n      \"column\": \"category_code\",\n      \"properties\": {\n        \"dtype\": \"category\",\n        \"num_unique_values\": 123,\n        \"samples\": [\n          \"electronics.clocks\",\n          \"auto.accessories.videoregister\",\n          \"furniture.living_room.cabinet\"\n        ],\n        \"semantic_type\": \"\",\n        \"description\": \"\"\n      }\n    },\n    {\n      \"column\": \"brand\",\n      \"properties\": {\n        \"dtype\": \"category\",\n        \"num_unique_values\": 1506,\n        \"samples\": [\n          \"d-link\",\n          \"mercedes\",\n          \"thomas\"\n        ],\n        \"semantic_type\": \"\",\n        \"description\": \"\"\n      }\n    },\n    {\n      \"column\": \"price\",\n      \"properties\": {\n        \"dtype\": \"number\",\n        \"std\": 360.30469093737895,\n        \"min\": 0.0,\n        \"max\": 2574.07,\n        \"num_unique_values\": 8014,\n        \"samples\": [\n          254.98,\n          537.21,\n          1029.6\n        ],\n        \"semantic_type\": \"\",\n        \"description\": \"\"\n      }\n    },\n    {\n      \"column\": \"user_id\",\n      \"properties\": {\n        \"dtype\": \"number\",\n        \"std\": 16620297,\n        \"min\": 306441847,\n        \"max\": 555483540,\n        \"num_unique_values\": 20384,\n        \"samples\": [\n          551285926,\n          553999074,\n          414175028\n        ],\n        \"semantic_type\": \"\",\n        \"description\": \"\"\n      }\n    },\n    {\n      \"column\": \"user_session\",\n      \"properties\": {\n        \"dtype\": \"category\",\n        \"num_unique_values\": 24382,\n        \"samples\": [\n          \"cfc07b24-174e-46cc-b63b-7aa81573cc79\",\n          \"cc57b561-e1ca-4b6e-87cf-84979d20b191\",\n          \"69e76b1a-c189-47fc-b9e0-cc030200ce58\"\n        ],\n        \"semantic_type\": \"\",\n        \"description\": \"\"\n      }\n    }\n  ]\n}"
            }
          },
          "metadata": {},
          "execution_count": 6
        }
      ]
    },
    {
      "cell_type": "code",
      "source": [
        "print(sample_df['event_type'].value_counts())\n"
      ],
      "metadata": {
        "id": "868r2B6IRcdR",
        "outputId": "c3a57ccd-bf7e-4426-abe0-952ae608b90f",
        "colab": {
          "base_uri": "https://localhost:8080/"
        }
      },
      "execution_count": 7,
      "outputs": [
        {
          "output_type": "stream",
          "name": "stdout",
          "text": [
            "event_type\n",
            "view        97130\n",
            "purchase     1655\n",
            "cart         1215\n",
            "Name: count, dtype: int64\n"
          ]
        }
      ]
    },
    {
      "cell_type": "code",
      "source": [
        "# How many unique users per event type?\n",
        "views = sample_df[sample_df['event_type'] == 'view']['user_id'].nunique()\n",
        "cart = sample_df[sample_df['event_type'] == 'cart']['user_id'].nunique()\n",
        "purchase = sample_df[sample_df['event_type'] == 'purchase']['user_id'].nunique()\n",
        "\n",
        "print(f\"Views: {views}, Cart Adds: {cart}, Purchases: {purchase}\")\n",
        "\n",
        "# Conversion rates\n",
        "cart_rate = cart / views * 100\n",
        "purchase_rate = purchase / cart * 100\n",
        "overall_purchase_rate = purchase / views * 100\n",
        "\n",
        "print(f\"View to Cart Conversion Rate: {cart_rate:.2f}%\")\n",
        "print(f\"Cart to Purchase Conversion Rate: {purchase_rate:.2f}%\")\n",
        "print(f\"View to Purchase Conversion Rate: {overall_purchase_rate:.2f}%\")\n"
      ],
      "metadata": {
        "id": "rzCtkxtRSFNJ",
        "outputId": "05d54117-c8d2-4afd-d98b-544708a961d8",
        "colab": {
          "base_uri": "https://localhost:8080/"
        }
      },
      "execution_count": 8,
      "outputs": [
        {
          "output_type": "stream",
          "name": "stdout",
          "text": [
            "Views: 20383, Cart Adds: 743, Purchases: 1336\n",
            "View to Cart Conversion Rate: 3.65%\n",
            "Cart to Purchase Conversion Rate: 179.81%\n",
            "View to Purchase Conversion Rate: 6.55%\n"
          ]
        }
      ]
    },
    {
      "cell_type": "code",
      "source": [
        "import matplotlib.pyplot as plt\n",
        "\n",
        "stages = ['View', 'Cart', 'Purchase']\n",
        "counts = [views, cart, purchase]\n",
        "\n",
        "plt.figure(figsize=(6,4))\n",
        "plt.bar(stages, counts, color='skyblue')\n",
        "plt.title('E-Commerce Funnel')\n",
        "plt.xlabel('Stage')\n",
        "plt.ylabel('Unique Users')\n",
        "plt.show()\n"
      ],
      "metadata": {
        "id": "ocn02lV-eV5M",
        "outputId": "97d21d2f-ba97-4d22-f977-beee0f41dd0d",
        "colab": {
          "base_uri": "https://localhost:8080/",
          "height": 410
        }
      },
      "execution_count": 9,
      "outputs": [
        {
          "output_type": "display_data",
          "data": {
            "text/plain": [
              "<Figure size 600x400 with 1 Axes>"
            ],
            "image/png": "[encoded data removed]"
          },
          "metadata": {}
        }
      ]
    },
    {
      "cell_type": "code",
      "source": [
        "# Find users who purchased but never added to cart\n",
        "cart_users = set(sample_df[sample_df['event_type'] == 'cart']['user_id'])\n",
        "purchase_users = set(sample_df[sample_df['event_type'] == 'purchase']['user_id'])\n",
        "no_cart_before_purchase = purchase_users - cart_users\n",
        "print(f\"Users who purchased without ever adding to cart: {len(no_cart_before_purchase)}\")\n"
      ],
      "metadata": {
        "id": "I3eWsF3jezos",
        "outputId": "5c519441-cdb8-4746-e68b-d875262dc91c",
        "colab": {
          "base_uri": "https://localhost:8080/"
        }
      },
      "execution_count": 10,
      "outputs": [
        {
          "output_type": "stream",
          "name": "stdout",
          "text": [
            "Users who purchased without ever adding to cart: 905\n"
          ]
        }
      ]
    },
    {
      "cell_type": "markdown",
      "source": [
        " **Session-based funnel and exploring deeper user behavior.**"
      ],
      "metadata": {
        "id": "XihO9O94fcFM"
      }
    },
    {
      "cell_type": "markdown",
      "source": [
        "Prepare the Data"
      ],
      "metadata": {
        "id": "fo3Wf12ufjRk"
      }
    },
    {
      "cell_type": "code",
      "source": [
        "sample_df = sample_df.sort_values(['user_id', 'user_session', 'event_time'])\n"
      ],
      "metadata": {
        "id": "1DC16xxZfXIk"
      },
      "execution_count": 11,
      "outputs": []
    },
    {
      "cell_type": "markdown",
      "source": [
        "Map Funnel Steps by Session\n",
        "Let’s flag which sessions included a view, cart, or purchase:\n",
        "\n"
      ],
      "metadata": {
        "id": "eF2rmOZUfmFs"
      }
    },
    {
      "cell_type": "code",
      "source": [
        "# For each session, check if it contains a 'view', 'cart', or 'purchase'\n",
        "funnel_by_session = (\n",
        "    sample_df.groupby(['user_id', 'user_session'])['event_type']\n",
        "    .agg(list)\n",
        "    .reset_index()\n",
        ")\n",
        "\n",
        "def funnel_steps(events):\n",
        "    return {\n",
        "        'view': 'view' in events,\n",
        "        'cart': 'cart' in events,\n",
        "        'purchase': 'purchase' in events\n",
        "    }\n",
        "\n",
        "# Apply function to get funnel steps\n",
        "funnel_flags = funnel_by_session['event_type'].apply(funnel_steps)\n",
        "funnel_steps_df = pd.DataFrame(list(funnel_flags))\n",
        "session_funnel = pd.concat([funnel_by_session[['user_id', 'user_session']], funnel_steps_df], axis=1)\n",
        "\n",
        "print(session_funnel.head())\n"
      ],
      "metadata": {
        "id": "gqw4BrRcfnMk",
        "outputId": "b1e6a9e9-a1c1-4c72-e70a-957509e8eefa",
        "colab": {
          "base_uri": "https://localhost:8080/"
        }
      },
      "execution_count": 12,
      "outputs": [
        {
          "output_type": "stream",
          "name": "stdout",
          "text": [
            "     user_id                          user_session  view   cart  purchase\n",
            "0  306441847  47641f8a-3aba-471a-8d07-014deccec567  True  False     False\n",
            "1  362699320  6c48ec39-b4be-4e62-a646-6c5d92de098c  True  False     False\n",
            "2  370076704  8664f1b9-1405-4d14-a2a8-c15f299cf7e4  True  False     False\n",
            "3  372804920  c7ca225b-fc10-4134-a5eb-1333cd6a87ea  True  False     False\n",
            "4  372944259  1c817fed-1de0-4a5c-a80d-479f023a5ece  True  False     False\n"
          ]
        }
      ]
    },
    {
      "cell_type": "markdown",
      "source": [
        "Calculate Session-Based Conversion Rates"
      ],
      "metadata": {
        "id": "Hoo1gkSbf7t0"
      }
    },
    {
      "cell_type": "code",
      "source": [
        "sessions_with_view = session_funnel['view'].sum()\n",
        "sessions_with_cart = session_funnel['cart'].sum()\n",
        "sessions_with_purchase = session_funnel['purchase'].sum()\n",
        "\n",
        "view_to_cart = session_funnel[(session_funnel['view']) & (session_funnel['cart'])].shape[0]\n",
        "cart_to_purchase = session_funnel[(session_funnel['cart']) & (session_funnel['purchase'])].shape[0]\n",
        "view_to_purchase = session_funnel[(session_funnel['view']) & (session_funnel['purchase'])].shape[0]\n",
        "\n",
        "print(f\"Sessions with view: {sessions_with_view}\")\n",
        "print(f\"Sessions with cart: {sessions_with_cart}\")\n",
        "print(f\"Sessions with purchase: {sessions_with_purchase}\")\n",
        "print(f\"Sessions with both view and cart: {view_to_cart}\")\n",
        "print(f\"Sessions with both cart and purchase: {cart_to_purchase}\")\n",
        "print(f\"Sessions with both view and purchase: {view_to_purchase}\")\n",
        "\n",
        "# Conversion rates\n",
        "print(f\"View to Cart (per session): {view_to_cart / sessions_with_view * 100:.2f}%\")\n",
        "print(f\"Cart to Purchase (per session): {cart_to_purchase / sessions_with_cart * 100:.2f}%\")\n",
        "print(f\"View to Purchase (per session): {view_to_purchase / sessions_with_view * 100:.2f}%\")\n"
      ],
      "metadata": {
        "id": "gFwZBVygf4Is",
        "outputId": "26c38e14-9c6f-410f-c50a-5915970b280d",
        "colab": {
          "base_uri": "https://localhost:8080/"
        }
      },
      "execution_count": 13,
      "outputs": [
        {
          "output_type": "stream",
          "name": "stdout",
          "text": [
            "Sessions with view: 24377\n",
            "Sessions with cart: 798\n",
            "Sessions with purchase: 1431\n",
            "Sessions with both view and cart: 798\n",
            "Sessions with both cart and purchase: 441\n",
            "Sessions with both view and purchase: 1425\n",
            "View to Cart (per session): 3.27%\n",
            "Cart to Purchase (per session): 55.26%\n",
            "View to Purchase (per session): 5.85%\n"
          ]
        }
      ]
    },
    {
      "cell_type": "markdown",
      "source": [
        " Deep Dive - Analyze Time Between Events\n",
        " Calculate how long it takes for a user to move from view to cart and from cart to purchase within a session:"
      ],
      "metadata": {
        "id": "qdbEFqDFgI4c"
      }
    },
    {
      "cell_type": "code",
      "source": [
        "print(sample_df.columns.tolist())\n"
      ],
      "metadata": {
        "id": "4mhLfhJshCJU",
        "outputId": "480fd962-b3e8-4a8f-97d3-222d44357ce8",
        "colab": {
          "base_uri": "https://localhost:8080/"
        }
      },
      "execution_count": 19,
      "outputs": [
        {
          "output_type": "stream",
          "name": "stdout",
          "text": [
            "['event_time', 'event_type', 'product_id', 'category_id', 'category_code', 'brand', 'price', 'user_id', 'user_session']\n"
          ]
        }
      ]
    },
    {
      "cell_type": "code",
      "source": [
        "print(sample_df.head())\n"
      ],
      "metadata": {
        "id": "Bfi6zKU1hG0P",
        "outputId": "c8b240b6-6602-4da4-dfc5-f5dda51c3a5d",
        "colab": {
          "base_uri": "https://localhost:8080/"
        }
      },
      "execution_count": 20,
      "outputs": [
        {
          "output_type": "stream",
          "name": "stdout",
          "text": [
            "                     event_time event_type  product_id          category_id  \\\n",
            "1150  2019-10-01 01:32:09+00:00       view     2501614  2053013564003713919   \n",
            "21849 2019-10-01 02:56:47+00:00       view     2501614  2053013564003713919   \n",
            "28433 2019-10-01 03:05:49+00:00       view    26500447  2053013563550729061   \n",
            "38470 2019-10-01 03:18:39+00:00       view    26203366  2053013563693335403   \n",
            "40352 2019-10-01 03:20:58+00:00       view    26500136  2053013563550729061   \n",
            "\n",
            "                 category_code    brand   price    user_id  \\\n",
            "1150   appliances.kitchen.oven  redmond  164.71  306441847   \n",
            "21849  appliances.kitchen.oven  redmond  164.71  306441847   \n",
            "28433                      NaN      NaN   26.77  362699320   \n",
            "38470                      NaN      NaN  310.69  362699320   \n",
            "40352                      NaN  lucente   91.38  362699320   \n",
            "\n",
            "                               user_session  \n",
            "1150   47641f8a-3aba-471a-8d07-014deccec567  \n",
            "21849  47641f8a-3aba-471a-8d07-014deccec567  \n",
            "28433  6c48ec39-b4be-4e62-a646-6c5d92de098c  \n",
            "38470  6c48ec39-b4be-4e62-a646-6c5d92de098c  \n",
            "40352  6c48ec39-b4be-4e62-a646-6c5d92de098c  \n"
          ]
        }
      ]
    },
    {
      "cell_type": "markdown",
      "source": [
        "Funnel by Brand"
      ],
      "metadata": {
        "id": "67sqAidyhzHd"
      }
    },
    {
      "cell_type": "code",
      "source": [
        "brand_results = []\n",
        "\n",
        "for brand in sample_df['brand'].dropna().unique():\n",
        "    temp = sample_df[sample_df['brand'] == brand]\n",
        "    funnel = temp.groupby(['user_id', 'user_session'])['event_type'].agg(list).reset_index()\n",
        "    steps = funnel['event_type'].apply(lambda x: {\n",
        "        'view': 'view' in x,\n",
        "        'cart': 'cart' in x,\n",
        "        'purchase': 'purchase' in x\n",
        "    })\n",
        "    step_df = pd.DataFrame(list(steps))\n",
        "    merged = pd.concat([funnel, step_df], axis=1)\n",
        "    view = merged['view'].sum()\n",
        "    cart = merged['cart'].sum()\n",
        "    purchase = merged['purchase'].sum()\n",
        "    view_cart = merged[(merged['view']) & (merged['cart'])].shape[0]\n",
        "    cart_purchase = merged[(merged['cart']) & (merged['purchase'])].shape[0]\n",
        "    view_purchase = merged[(merged['view']) & (merged['purchase'])].shape[0]\n",
        "    brand_results.append({\n",
        "        'brand': brand,\n",
        "        'views': view,\n",
        "        'carts': cart,\n",
        "        'purchases': purchase,\n",
        "        'view_to_cart(%)': view_cart / view * 100 if view else 0,\n",
        "        'cart_to_purchase(%)': cart_purchase / cart * 100 if cart else 0,\n",
        "        'view_to_purchase(%)': view_purchase / view * 100 if view else 0\n",
        "    })\n",
        "\n",
        "brand_funnel_df = pd.DataFrame(brand_results)\n",
        "print(brand_funnel_df.sort_values('views', ascending=False).head(10))  # Top 10 brands by views\n"
      ],
      "metadata": {
        "id": "xYvtTWJ5hukv",
        "outputId": "304ec4ef-d18a-40d7-a7a6-37ebf7236962",
        "colab": {
          "base_uri": "https://localhost:8080/"
        }
      },
      "execution_count": 21,
      "outputs": [
        {
          "output_type": "stream",
          "name": "stdout",
          "text": [
            "       brand  views  carts  purchases  view_to_cart(%)  cart_to_purchase(%)  \\\n",
            "7    samsung   4199    312        342         7.430341            61.858974   \n",
            "23     apple   3773    208        248         5.512854            56.730769   \n",
            "33    xiaomi   2385    106        118         4.444444            43.396226   \n",
            "6     huawei   1036     53         58         5.115830            56.603774   \n",
            "1    lucente    642      0         25         0.000000             0.000000   \n",
            "42     bosch    572      4         12         0.699301            25.000000   \n",
            "77        lg    424      6         17         1.415094            50.000000   \n",
            "81  cordiant    386      9         13         2.331606            22.222222   \n",
            "26  elenberg    382      0         12         0.000000             0.000000   \n",
            "65  dauscher    378      0          7         0.000000             0.000000   \n",
            "\n",
            "    view_to_purchase(%)  \n",
            "7              8.144796  \n",
            "23             6.493506  \n",
            "33             4.947589  \n",
            "6              5.598456  \n",
            "1              3.894081  \n",
            "42             2.097902  \n",
            "77             4.009434  \n",
            "81             3.367876  \n",
            "26             3.141361  \n",
            "65             1.851852  \n"
          ]
        }
      ]
    },
    {
      "cell_type": "markdown",
      "source": [
        "Funnel by Category"
      ],
      "metadata": {
        "id": "joOi2Leqh9M0"
      }
    },
    {
      "cell_type": "code",
      "source": [
        "cat_results = []\n",
        "\n",
        "for cat in sample_df['category_code'].dropna().unique():\n",
        "    temp = sample_df[sample_df['category_code'] == cat]\n",
        "    funnel = temp.groupby(['user_id', 'user_session'])['event_type'].agg(list).reset_index()\n",
        "    steps = funnel['event_type'].apply(lambda x: {\n",
        "        'view': 'view' in x,\n",
        "        'cart': 'cart' in x,\n",
        "        'purchase': 'purchase' in x\n",
        "    })\n",
        "    step_df = pd.DataFrame(list(steps))\n",
        "    merged = pd.concat([funnel, step_df], axis=1)\n",
        "    view = merged['view'].sum()\n",
        "    cart = merged['cart'].sum()\n",
        "    purchase = merged['purchase'].sum()\n",
        "    view_cart = merged[(merged['view']) & (merged['cart'])].shape[0]\n",
        "    cart_purchase = merged[(merged['cart']) & (merged['purchase'])].shape[0]\n",
        "    view_purchase = merged[(merged['view']) & (merged['purchase'])].shape[0]\n",
        "    cat_results.append({\n",
        "        'category': cat,\n",
        "        'views': view,\n",
        "        'carts': cart,\n",
        "        'purchases': purchase,\n",
        "        'view_to_cart(%)': view_cart / view * 100 if view else 0,\n",
        "        'cart_to_purchase(%)': cart_purchase / cart * 100 if cart else 0,\n",
        "        'view_to_purchase(%)': view_purchase / view * 100 if view else 0\n",
        "    })\n",
        "\n",
        "cat_funnel_df = pd.DataFrame(cat_results)\n",
        "print(cat_funnel_df.sort_values('views', ascending=False).head(10))  # Top 10 categories by views\n"
      ],
      "metadata": {
        "id": "RE9yLKbCh8Lj",
        "outputId": "f4dd3f74-aaa9-494c-f0a3-a45fdce3abe1",
        "colab": {
          "base_uri": "https://localhost:8080/"
        }
      },
      "execution_count": 22,
      "outputs": [
        {
          "output_type": "stream",
          "name": "stdout",
          "text": [
            "                            category  views  carts  purchases  \\\n",
            "3             electronics.smartphone   7853    563        646   \n",
            "8                 electronics.clocks    997     21         33   \n",
            "2        electronics.audio.headphone    921     54         64   \n",
            "5                 computers.notebook    601      2         32   \n",
            "27              electronics.video.tv    557     24         37   \n",
            "10  appliances.kitchen.refrigerators    523      0         25   \n",
            "49     appliances.environment.vacuum    429     16         33   \n",
            "37                     apparel.shoes    419      0          8   \n",
            "25         appliances.kitchen.washer    401      4         34   \n",
            "36           auto.accessories.player    322      0          6   \n",
            "\n",
            "    view_to_cart(%)  cart_to_purchase(%)  view_to_purchase(%)  \n",
            "3          7.169235            60.568384             8.213422  \n",
            "8          2.106319            61.904762             3.309930  \n",
            "2          5.863192            42.592593             6.731813  \n",
            "5          0.332779            50.000000             5.324459  \n",
            "27         4.308797            25.000000             6.642729  \n",
            "10         0.000000             0.000000             4.780115  \n",
            "49         3.729604            75.000000             7.692308  \n",
            "37         0.000000             0.000000             1.909308  \n",
            "25         0.997506            50.000000             8.478803  \n",
            "36         0.000000             0.000000             1.863354  \n"
          ]
        }
      ]
    },
    {
      "cell_type": "markdown",
      "source": [
        "Funnel by Price Range\n",
        "First, create a price bucket:"
      ],
      "metadata": {
        "id": "Xcncj1wziCxD"
      }
    },
    {
      "cell_type": "code",
      "source": [
        "import numpy as np\n",
        "\n",
        "# Define price bins (edit as appropriate for your data's price scale)\n",
        "bins = [0, 50, 150, 500, 2000, np.inf]\n",
        "labels = ['Low', 'Medium', 'High', 'Premium', 'Luxury']\n",
        "\n",
        "sample_df['price_range'] = pd.cut(sample_df['price'], bins=bins, labels=labels)\n"
      ],
      "metadata": {
        "id": "xSjG3Y3qiBkD"
      },
      "execution_count": 23,
      "outputs": []
    },
    {
      "cell_type": "code",
      "source": [
        "price_results = []\n",
        "\n",
        "for price_range in sample_df['price_range'].dropna().unique():\n",
        "    temp = sample_df[sample_df['price_range'] == price_range]\n",
        "    funnel = temp.groupby(['user_id', 'user_session'])['event_type'].agg(list).reset_index()\n",
        "    steps = funnel['event_type'].apply(lambda x: {\n",
        "        'view': 'view' in x,\n",
        "        'cart': 'cart' in x,\n",
        "        'purchase': 'purchase' in x\n",
        "    })\n",
        "    step_df = pd.DataFrame(list(steps))\n",
        "    merged = pd.concat([funnel, step_df], axis=1)\n",
        "    view = merged['view'].sum()\n",
        "    cart = merged['cart'].sum()\n",
        "    purchase = merged['purchase'].sum()\n",
        "    view_cart = merged[(merged['view']) & (merged['cart'])].shape[0]\n",
        "    cart_purchase = merged[(merged['cart']) & (merged['purchase'])].shape[0]\n",
        "    view_purchase = merged[(merged['view']) & (merged['purchase'])].shape[0]\n",
        "    price_results.append({\n",
        "        'price_range': price_range,\n",
        "        'views': view,\n",
        "        'carts': cart,\n",
        "        'purchases': purchase,\n",
        "        'view_to_cart(%)': view_cart / view * 100 if view else 0,\n",
        "        'cart_to_purchase(%)': cart_purchase / cart * 100 if cart else 0,\n",
        "        'view_to_purchase(%)': view_purchase / view * 100 if view else 0\n",
        "    })\n",
        "\n",
        "price_funnel_df = pd.DataFrame(price_results)\n",
        "print(price_funnel_df)\n"
      ],
      "metadata": {
        "id": "65NSHxq-iMP7",
        "outputId": "fbc8f36a-e7ca-4cf6-cbe5-4a4e0dcc8b3d",
        "colab": {
          "base_uri": "https://localhost:8080/"
        }
      },
      "execution_count": 24,
      "outputs": [
        {
          "output_type": "stream",
          "name": "stdout",
          "text": [
            "  price_range  views  carts  purchases  view_to_cart(%)  cart_to_purchase(%)  \\\n",
            "0        High  11212    386        600         3.442740            58.808290   \n",
            "1         Low   6538     77        243         1.177730            36.363636   \n",
            "2      Medium   9091    178        383         1.957980            54.494382   \n",
            "3     Premium   6119    169        241         2.761889            55.621302   \n",
            "4      Luxury    351      1          4         0.284900             0.000000   \n",
            "\n",
            "   view_to_purchase(%)  \n",
            "0             5.315733  \n",
            "1             3.686143  \n",
            "2             4.201958  \n",
            "3             3.938552  \n",
            "4             1.139601  \n"
          ]
        }
      ]
    },
    {
      "cell_type": "markdown",
      "source": [
        "Plot: View-to-Purchase Conversion by Brand\n"
      ],
      "metadata": {
        "id": "N5AqmlwRi_cC"
      }
    },
    {
      "cell_type": "code",
      "source": [
        "import matplotlib.pyplot as plt\n",
        "\n",
        "# Select top 10 brands by views\n",
        "top_brands = brand_funnel_df.sort_values('views', ascending=False).head(10)\n",
        "\n",
        "plt.figure(figsize=(10, 6))\n",
        "plt.bar(top_brands['brand'], top_brands['view_to_purchase(%)'], color='cornflowerblue')\n",
        "plt.title('Conversion Rate by Brand (View to Purchase)')\n",
        "plt.xlabel('Brand')\n",
        "plt.ylabel('View to Purchase Conversion Rate (%)')\n",
        "plt.xticks(rotation=45)\n",
        "plt.tight_layout()\n",
        "plt.show()\n"
      ],
      "metadata": {
        "id": "c--Qhww9i86a",
        "outputId": "8f78ff7b-8220-4ccb-ef4e-96af82f6386e",
        "colab": {
          "base_uri": "https://localhost:8080/",
          "height": 607
        }
      },
      "execution_count": 25,
      "outputs": [
        {
          "output_type": "display_data",
          "data": {
            "text/plain": [
              "<Figure size 1000x600 with 1 Axes>"
            ],
            "image/png": "[encoded data removed]"
          },
          "metadata": {}
        }
      ]
    },
    {
      "cell_type": "markdown",
      "source": [
        "Plot: View-to-Purchase Conversion by Category"
      ],
      "metadata": {
        "id": "Z46MiNr9jGD6"
      }
    },
    {
      "cell_type": "code",
      "source": [
        "# Select top 10 categories by views\n",
        "top_cats = cat_funnel_df.sort_values('views', ascending=False).head(10)\n",
        "\n",
        "plt.figure(figsize=(10, 6))\n",
        "plt.bar(top_cats['category'], top_cats['view_to_purchase(%)'], color='mediumseagreen')\n",
        "plt.title('Conversion Rate by Category (View to Purchase)')\n",
        "plt.xlabel('Product Category')\n",
        "plt.ylabel('View to Purchase Conversion Rate (%)')\n",
        "plt.xticks(rotation=45, ha='right')\n",
        "plt.tight_layout()\n",
        "plt.show()\n"
      ],
      "metadata": {
        "id": "u-cO6LIyjHVi",
        "outputId": "ec722ea3-2a61-42ce-a2b1-0ef67fc95e4d",
        "colab": {
          "base_uri": "https://localhost:8080/",
          "height": 607
        }
      },
      "execution_count": 26,
      "outputs": [
        {
          "output_type": "display_data",
          "data": {
            "text/plain": [
              "<Figure size 1000x600 with 1 Axes>"
            ],
            "image/png": "[encoded data removed]"
          },
          "metadata": {}
        }
      ]
    },
    {
      "cell_type": "markdown",
      "source": [
        "Plot: View-to-Purchase Conversion by Price Range"
      ],
      "metadata": {
        "id": "b4RhAdeajPCi"
      }
    },
    {
      "cell_type": "code",
      "source": [
        "plt.figure(figsize=(8, 5))\n",
        "plt.bar(price_funnel_df['price_range'].astype(str), price_funnel_df['view_to_purchase(%)'], color='tomato')\n",
        "plt.title('Conversion Rate by Price Range (View to Purchase)')\n",
        "plt.xlabel('Price Range')\n",
        "plt.ylabel('View to Purchase Conversion Rate (%)')\n",
        "plt.tight_layout()\n",
        "plt.show()\n"
      ],
      "metadata": {
        "id": "MTqvcVbrjPvC",
        "outputId": "6e9736f3-1e9d-4033-d3b8-e589bf6cf969",
        "colab": {
          "base_uri": "https://localhost:8080/",
          "height": 507
        }
      },
      "execution_count": 27,
      "outputs": [
        {
          "output_type": "display_data",
          "data": {
            "text/plain": [
              "<Figure size 800x500 with 1 Axes>"
            ],
            "image/png": "[encoded data removed]"
          },
          "metadata": {}
        }
      ]
    },
    {
      "cell_type": "code",
      "source": [
        "!git config --global user.email \"achyuthkumar603@gmail.com\"\n",
        "!git config --global user.name \"achyuth098\""
      ],
      "metadata": {
        "id": "HA_8w0_LqoQB"
      },
      "execution_count": 36,
      "outputs": []
    },
    {
      "cell_type": "code",
      "source": [
        "!git clone https://github.com/achyuth098/ecommerce-funnel-analysis.git\n"
      ],
      "metadata": {
        "id": "8AP2zFLzqxaC",
        "outputId": "95de3c02-562d-4581-f0cc-a9025b9eb355",
        "colab": {
          "base_uri": "https://localhost:8080/"
        }
      },
      "execution_count": 37,
      "outputs": [
        {
          "output_type": "stream",
          "name": "stdout",
          "text": [
            "fatal: destination path 'ecommerce-funnel-analysis' already exists and is not an empty directory.\n"
          ]
        }
      ]
    },
    {
      "cell_type": "code",
      "source": [
        "import shutil\n",
        "shutil.copy('your_notebook.ipynb', 'YOUR-REPO-NAME/')\n",
        "# Repeat for images/other files as needed\n"
      ],
      "metadata": {
        "id": "84MQ9ZWwrILT"
      },
      "execution_count": null,
      "outputs": []
    }
  ],
  "metadata": {
    "colab": {
      "name": "Welcome To Colab",
      "provenance": []
    },
    "kernelspec": {
      "display_name": "Python 3",
      "name": "python3"
    }
  },
  "nbformat": 4,
  "nbformat_minor": 0
}